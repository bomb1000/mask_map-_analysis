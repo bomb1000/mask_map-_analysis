{
  "nbformat": 4,
  "nbformat_minor": 0,
  "metadata": {
    "colab": {
      "provenance": [],
      "authorship_tag": "ABX9TyO9QThD1sUoTrX3Ac3k4s/+",
      "include_colab_link": true
    },
    "kernelspec": {
      "name": "python3",
      "display_name": "Python 3"
    },
    "language_info": {
      "name": "python"
    }
  },
  "cells": [
    {
      "cell_type": "markdown",
      "metadata": {
        "id": "view-in-github",
        "colab_type": "text"
      },
      "source": [
        "<a href=\"https://colab.research.google.com/github/bomb1000/mask_map_analysis/blob/main/%E5%8F%A3%E7%BD%A9%E5%9C%B0%E5%9C%96%E5%88%86%E6%9E%90.ipynb\" target=\"_parent\"><img src=\"https://colab.research.google.com/assets/colab-badge.svg\" alt=\"Open In Colab\"/></a>"
      ]
    },
    {
      "cell_type": "code",
      "execution_count": 6,
      "metadata": {
        "id": "QUYkLfuyHoLV",
        "colab": {
          "base_uri": "https://localhost:8080/"
        },
        "outputId": "041b0407-42bd-430d-c14a-37e42939d423"
      },
      "outputs": [
        {
          "output_type": "stream",
          "name": "stdout",
          "text": [
            "                   type                                           features\n",
            "0     FeatureCollection  {'type': 'Feature', 'properties': {'id': '5901...\n",
            "1     FeatureCollection  {'type': 'Feature', 'properties': {'id': '5901...\n",
            "2     FeatureCollection  {'type': 'Feature', 'properties': {'id': '5901...\n",
            "3     FeatureCollection  {'type': 'Feature', 'properties': {'id': '5901...\n",
            "4     FeatureCollection  {'type': 'Feature', 'properties': {'id': '5901...\n",
            "...                 ...                                                ...\n",
            "3288  FeatureCollection  {'type': 'Feature', 'properties': {'id': '5903...\n",
            "3289  FeatureCollection  {'type': 'Feature', 'properties': {'id': '0291...\n",
            "3290  FeatureCollection  {'type': 'Feature', 'properties': {'id': '5934...\n",
            "3291  FeatureCollection  {'type': 'Feature', 'properties': {'id': '5937...\n",
            "3292  FeatureCollection  {'type': 'Feature', 'properties': {'id': '0145...\n",
            "\n",
            "[3293 rows x 2 columns]\n"
          ]
        }
      ],
      "source": [
        "import requests\n",
        "import json\n",
        "import pandas as pd\n",
        "\n",
        "\n",
        "# 利用 requests 對 API 來源發送一個請求\n",
        "url = 'https://raw.githubusercontent.com/kiang/pharmacies/master/json/points.json'\n",
        "response = requests.get(url)\n",
        "\n",
        "# 將請求回應的內容存成一個字串格式\n",
        "d = response.text\n",
        "\n",
        "# 將長得像 json 格式的字串解析成字典或列表\n",
        "data = json.loads(d)\n",
        "\n",
        "# print(data)\n",
        "df = pd.DataFrame(data)\n",
        "\n",
        "# Display the first 5 rows of the DataFrame\n",
        "# print(df.head())\n",
        "print(df)"
      ]
    },
    {
      "cell_type": "code",
      "source": [
        "# 計算各地區的藥局數量\n",
        "\n",
        "med_count = {}\n",
        "\n",
        "# 填入欄位名稱\n",
        "for d in data['features']:\n",
        "    county = d['properties']['address'][:3]\n",
        "    if county not in med_count:\n",
        "         med_count[county] = 0\n",
        "    for key, value in med_count.items():\n",
        "      if county == key:\n",
        "           med_count[county] += 1\n",
        "\n",
        "print(med_count)\n",
        "# {'台北市': 123, '新北市': 456 ...}\n"
      ],
      "metadata": {
        "id": "mCS7iPGQLd3t",
        "outputId": "f8f38e77-f981-4be8-cb07-a6689750e070",
        "colab": {
          "base_uri": "https://localhost:8080/"
        }
      },
      "execution_count": 11,
      "outputs": [
        {
          "output_type": "stream",
          "name": "stdout",
          "text": [
            "{'臺北市': 340, '高雄市': 424, '臺中市': 436, '臺南市': 280, '基隆市': 57, '新竹市': 39, '嘉義市': 67, '新北市': 507, '桃園市': 271, '新竹縣': 48, '宜蘭縣': 76, '苗栗縣': 57, '彰化縣': 181, '南投縣': 67, '雲林縣': 131, '嘉義縣': 84, '屏東縣': 140, '澎湖縣': 11, '花蓮縣': 47, '臺東縣': 23, '金門縣': 6, '連江縣': 1}\n"
          ]
        }
      ]
    },
    {
      "cell_type": "code",
      "source": [],
      "metadata": {
        "id": "AndESdwMQE5b"
      },
      "execution_count": null,
      "outputs": []
    }
  ]
}